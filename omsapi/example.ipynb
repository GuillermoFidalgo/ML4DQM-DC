{
 "cells": [
  {
   "cell_type": "markdown",
   "id": "sixth-indication",
   "metadata": {},
   "source": [
    "**Some examples on how to use the OMS API**  \n",
    "\n",
    "The following topics are covered:  \n",
    "- creating an OMS API instance\n",
    "- get all available information per run or for a given range of runs\n",
    "- get all available information per lumisection\n",
    "- select specific data fields to retrieve\n",
    "- get L1 and HLT trigger rates"
   ]
  },
  {
   "cell_type": "code",
   "execution_count": 1,
   "id": "interracial-advance",
   "metadata": {},
   "outputs": [],
   "source": [
    "### imports\n",
    "\n",
    "# external modules\n",
    "import matplotlib.pyplot as plt\n",
    "import importlib\n",
    "\n",
    "# local modules\n",
    "import get_oms_data\n",
    "importlib.reload(get_oms_data)\n",
    "from get_oms_data import get_oms_api, get_oms_data, get_oms_response_attribute"
   ]
  },
  {
   "cell_type": "code",
   "execution_count": 2,
   "id": "measured-myanmar",
   "metadata": {},
   "outputs": [],
   "source": [
    "# get the omsapi instance\n",
    "\n",
    "omsapi = get_oms_api()"
   ]
  },
  {
   "cell_type": "code",
   "execution_count": 3,
   "id": "equipped-briefing",
   "metadata": {
    "scrolled": false
   },
   "outputs": [
    {
     "name": "stdout",
     "output_type": "stream",
     "text": [
      "https://vocms0185.cern.ch/agg/api/v1/runs/?filter[run_number][EQ]=297050&page[offset]=0&page[limit]=1000\n",
      "https://vocms0185.cern.ch/agg/api/v1/runs/?filter[run_number][EQ]=297050&page[offset]=0&page[limit]=1000\n",
      "{'data': [{'id': '297050', 'type': 'runs', 'attributes': {'components': ['CSC', 'CTPPS', 'CTPPS_TOT', 'DAQ', 'DCS', 'DQM', 'DT', 'ECAL', 'ES', 'HCAL', 'HF', 'PIXEL', 'RPC', 'SCAL', 'TCDS', 'TRACKER', 'TRG'], 'l1_hlt_mode_stripped': 'collisions2017/v106', 'l1_key': 'l1_trg_collisions2017/v37', 'duration': 18444, 'b_field': 3.799, 'tier0_transfer': True, 'l1_triggers_counter': 900142261, 'hlt_physics_throughput': 0.77342418, 'init_lumi': 6885.202148, 'last_update': '2017-06-16T21:13:57Z', 'beamactive_total_deadtime': 3.35, 'recorded_lumi': 103.19148, 'delivered_lumi': 106.148066, 'cmssw_version': 'CMSSW_9_2_3_patch2', 'crossing_angle_stop': 150.0, 'energy': 6499.0, 'end_lumi': 5031.490723, 'hlt_physics_rate': 1026.971, 'fill_number': 5839, 'l1_hlt_mode': 'collisions2017', 'end_time': '2017-06-17T01:57:57Z', 'trigger_mode': 'l1_hlt_collisions2017/v106', 'l1_key_stripped': 'collisions2017/v37', 'crossing_angle_start': 150.0, 'fill_type_party2': 'PROTON', 'fill_type_party1': 'PROTON', 'beta_star_start': 40.0, 'initial_prescale_index': 6, 'sequence': 'GLOBAL-RUN', 'start_time': '2017-06-16T20:50:33Z', 'hlt_physics_size': 14170.664, 'fill_type_runtime': 'PROTONS', 'hlt_key': '/cdaq/physics/Run2017/2e34/v1.1.1/HLT/V2', 'clock_type': 'LHC', 'last_lumisection_number': 793, 'l1_rate': 49130.85, 'l1_menu': 'L1Menu_Collisions2017_dev_r5', 'run_number': 297050, 'stable_beam': True, 'beta_star_stop': 40.0, 'hlt_physics_counter': 18816146}, 'relationships': {'runkeys': {'links': {'self': 'https://https://vocms0185.cern.ch/agg/api/v1/runs/297050/relationships/runkeys', 'related': 'https://https://vocms0185.cern.ch/agg/api/v1/runs/297050/runkeys'}}, 'l1configurationkey': {'links': {'self': 'https://https://vocms0185.cern.ch/agg/api/v1/runs/297050/relationships/l1configurationkey', 'related': 'https://https://vocms0185.cern.ch/agg/api/v1/runs/297050/l1configurationkey'}}, 'l1algorithmtriggers': {'links': {'self': 'https://https://vocms0185.cern.ch/agg/api/v1/runs/297050/relationships/l1algorithmtriggers', 'related': 'https://https://vocms0185.cern.ch/agg/api/v1/runs/297050/l1algorithmtriggers'}}, 'hltconfigdata': {'links': {'self': 'https://https://vocms0185.cern.ch/agg/api/v1/runs/297050/relationships/hltconfigdata', 'related': 'https://https://vocms0185.cern.ch/agg/api/v1/runs/297050/hltconfigdata'}}, 'deadtime': {'links': {'self': 'https://https://vocms0185.cern.ch/agg/api/v1/runs/297050/relationships/deadtime', 'related': 'https://https://vocms0185.cern.ch/agg/api/v1/runs/297050/deadtime'}}, 'daqreadouts': {'links': {'self': 'https://https://vocms0185.cern.ch/agg/api/v1/runs/297050/relationships/daqreadouts', 'related': 'https://https://vocms0185.cern.ch/agg/api/v1/runs/297050/daqreadouts'}}, 'fill': {'links': {'self': 'https://https://vocms0185.cern.ch/agg/api/v1/runs/297050/relationships/fill', 'related': 'https://https://vocms0185.cern.ch/agg/api/v1/runs/297050/fill'}}, 'l1triggerrate': {'links': {'self': 'https://https://vocms0185.cern.ch/agg/api/v1/runs/297050/relationships/l1triggerrate', 'related': 'https://https://vocms0185.cern.ch/agg/api/v1/runs/297050/l1triggerrate'}}, 'lumisections': {'links': {'self': 'https://https://vocms0185.cern.ch/agg/api/v1/runs/297050/relationships/lumisections', 'related': 'https://https://vocms0185.cern.ch/agg/api/v1/runs/297050/lumisections'}}}, 'links': {'self': 'https://https://vocms0185.cern.ch/agg/api/v1/runs/297050'}, 'meta': {'row': {'init_lumi': {'units': '10^{30}cm^{-2}s^{-1}'}, 'delivered_lumi': {'units': 'pb^{-1}'}, 'recorded_lumi': {'units': 'pb^{-1}'}, 'crossing_angle_start': {'units': '{\\\\mu}rad'}, 'beta_star_stop': {'units': 'cm'}, 'crossing_angle_stop': {'units': '{\\\\mu}rad'}, 'end_lumi': {'units': '10^{30}cm^{-2}s^{-1}'}, 'beta_star_start': {'units': 'cm'}}}}], 'links': {'first': 'https://https://vocms0185.cern.ch/agg/api/v1/runs?page[limit]=1000&filter[runs][run_number][EQ]=297050', 'last': 'https://https://vocms0185.cern.ch/agg/api/v1/runs?page[limit]=1000&filter[runs][run_number][EQ]=297050', 'next': None, 'prev': None}, 'meta': {'totalResourceCount': 1}}\n"
     ]
    }
   ],
   "source": [
    "# example: get run information for a single run\n",
    "\n",
    "runnb = 297050\n",
    "run_info = get_oms_data( omsapi, 'runs', runnb )\n",
    "print(run_info)"
   ]
  },
  {
   "cell_type": "code",
   "execution_count": 4,
   "id": "improved-tragedy",
   "metadata": {},
   "outputs": [
    {
     "name": "stdout",
     "output_type": "stream",
     "text": [
      "https://vocms0185.cern.ch/agg/api/v1/runs/?fields=l1_rate,l1_menu&filter[run_number][EQ]=297050&page[offset]=0&page[limit]=1000\n",
      "https://vocms0185.cern.ch/agg/api/v1/runs/?fields=l1_rate,l1_menu&filter[run_number][EQ]=297050&page[offset]=0&page[limit]=1000\n",
      "{'data': [{'id': '297050', 'type': 'runs', 'attributes': {'l1_rate': 49130.85, 'l1_menu': 'L1Menu_Collisions2017_dev_r5'}, 'links': {'self': 'https://https://vocms0185.cern.ch/agg/api/v1/runs/297050'}}], 'links': {'first': 'https://https://vocms0185.cern.ch/agg/api/v1/runs?page[limit]=1000&filter[runs][run_number][EQ]=297050&fields[runs]=l1_rate%2Cl1_menu', 'last': 'https://https://vocms0185.cern.ch/agg/api/v1/runs?page[limit]=1000&filter[runs][run_number][EQ]=297050&fields[runs]=l1_rate%2Cl1_menu', 'next': None, 'prev': None}, 'meta': {'totalResourceCount': 1}} \n",
      "\n",
      "\n",
      "\n",
      " [{'id': '297050', 'type': 'runs', 'attributes': {'l1_rate': 49130.85, 'l1_menu': 'L1Menu_Collisions2017_dev_r5'}, 'links': {'self': 'https://https://vocms0185.cern.ch/agg/api/v1/runs/297050'}}]\n",
      "------------------------\n",
      "\n",
      " {'l1_rate': 49130.85, 'l1_menu': 'L1Menu_Collisions2017_dev_r5'}\n"
     ]
    }
   ],
   "source": [
    "# example: get only specific info for a single run\n",
    "\n",
    "runnb = 297050\n",
    "run_info_spec = get_oms_data( omsapi, 'runs', runnb, attributes=['l1_rate','l1_menu'] )\n",
    "print(run_info_spec,\"\\n\")\n",
    "print('\\n\\n',run_info_spec['data'])\n",
    "print('--'*12+'\\n\\n',run_info_spec['data'][0]['attributes'])"
   ]
  },
  {
   "cell_type": "code",
   "execution_count": 5,
   "id": "dedicated-flexibility",
   "metadata": {},
   "outputs": [
    {
     "name": "stdout",
     "output_type": "stream",
     "text": [
      "https://vocms0185.cern.ch/agg/api/v1/runs/?fields=l1_rate,l1_menu&filter[run_number][GE]=297050&filter[run_number][LE]=297056&page[offset]=0&page[limit]=1000\n",
      "https://vocms0185.cern.ch/agg/api/v1/runs/?fields=l1_rate,l1_menu&filter[run_number][GE]=297050&filter[run_number][LE]=297056&page[offset]=0&page[limit]=1000\n",
      "{'data': [{'id': '297050', 'type': 'runs', 'attributes': {'l1_rate': 49130.85, 'l1_menu': 'L1Menu_Collisions2017_dev_r5'}, 'links': {'self': 'https://https://vocms0185.cern.ch/agg/api/v1/runs/297050'}}, {'id': '297051', 'type': 'runs', 'attributes': {'l1_rate': 1114.198, 'l1_menu': 'L1Menu_Collisions2017_dev_r5'}, 'links': {'self': 'https://https://vocms0185.cern.ch/agg/api/v1/runs/297051'}}, {'id': '297052', 'type': 'runs', 'attributes': {'l1_rate': 766.784, 'l1_menu': 'L1Menu_Collisions2017_dev_r5'}, 'links': {'self': 'https://https://vocms0185.cern.ch/agg/api/v1/runs/297052'}}, {'id': '297053', 'type': 'runs', 'attributes': {'l1_rate': 972.374, 'l1_menu': 'L1Menu_Collisions2017_dev_r5'}, 'links': {'self': 'https://https://vocms0185.cern.ch/agg/api/v1/runs/297053'}}, {'id': '297054', 'type': 'runs', 'attributes': {'l1_rate': 0.686, 'l1_menu': 'L1Menu_Collisions2017_dev_r5'}, 'links': {'self': 'https://https://vocms0185.cern.ch/agg/api/v1/runs/297054'}}, {'id': '297055', 'type': 'runs', 'attributes': {'l1_rate': None, 'l1_menu': 'L1Menu_Collisions2017_dev_r5'}, 'links': {'self': 'https://https://vocms0185.cern.ch/agg/api/v1/runs/297055'}}, {'id': '297056', 'type': 'runs', 'attributes': {'l1_rate': 60997.938, 'l1_menu': 'L1Menu_Collisions2017_dev_r5'}, 'links': {'self': 'https://https://vocms0185.cern.ch/agg/api/v1/runs/297056'}}], 'links': {'first': 'https://https://vocms0185.cern.ch/agg/api/v1/runs?page[limit]=1000&filter[runs][run_number][GE]=297050&fields[runs]=l1_rate%2Cl1_menu&filter[runs][run_number][LE]=297056', 'last': 'https://https://vocms0185.cern.ch/agg/api/v1/runs?page[limit]=1000&filter[runs][run_number][GE]=297050&fields[runs]=l1_rate%2Cl1_menu&filter[runs][run_number][LE]=297056', 'next': None, 'prev': None}, 'meta': {'totalResourceCount': 7}}\n",
      "[49130.85, 1114.198, 766.784, 972.374, 0.686, None, 60997.938]\n"
     ]
    }
   ],
   "source": [
    "# example: get specific run information for multiple runs\n",
    "\n",
    "runnb = (297050,297056)\n",
    "run_info_mult = get_oms_data( omsapi, 'runs', runnb, attributes=['l1_rate','l1_menu'] )\n",
    "print(run_info_mult)\n",
    "l1_rate = get_oms_response_attribute( run_info_mult, 'l1_rate' )\n",
    "print(l1_rate)"
   ]
  },
  {
   "cell_type": "code",
   "execution_count": 12,
   "id": "accompanied-integrity",
   "metadata": {
    "scrolled": true
   },
   "outputs": [
    {
     "name": "stdout",
     "output_type": "stream",
     "text": [
      "https://vocms0185.cern.ch/agg/api/v1/lumisections/?filter[run_number][EQ]=297050&filter[lumisection_number][EQ]=1&page[offset]=0&page[limit]=1000\n",
      "https://vocms0185.cern.ch/agg/api/v1/lumisections/?filter[run_number][EQ]=297050&filter[lumisection_number][EQ]=1&page[offset]=0&page[limit]=1000\n",
      "rp_time_ready -> None\n",
      "cscp_ready -> True\n",
      "beam1_present -> True\n",
      "physics_flag -> True\n",
      "dt0_ready -> True\n",
      "bpix_ready -> True\n",
      "ho_ready -> True\n",
      "dtp_ready -> True\n",
      "tecm_ready -> True\n",
      "gem_ready -> None\n",
      "lumisection_number -> 1\n",
      "tibtid_ready -> True\n",
      "fpix_ready -> True\n",
      "rpc_ready -> True\n",
      "rp_sect_56_ready -> None\n",
      "castor_ready -> False\n",
      "init_lumi -> 6885.20214844\n",
      "pileup -> 40.37966919\n",
      "esp_ready -> True\n",
      "hbhea_ready -> True\n",
      "eep_ready -> True\n",
      "ebm_ready -> True\n",
      "recorded_lumi -> 25.67151953\n",
      "delivered_lumi -> 34.78266797\n",
      "dtm_ready -> True\n",
      "gemp_ready -> None\n",
      "eem_ready -> True\n",
      "end_lumi -> 0.0\n",
      "fill_number -> 5839\n",
      "esm_ready -> True\n",
      "tecp_ready -> True\n",
      "gemm_ready -> None\n",
      "ebp_ready -> True\n",
      "end_time -> 2017-06-16T20:51:50Z\n",
      "hf_ready -> True\n",
      "rp_sect_45_ready -> None\n",
      "cscm_ready -> True\n",
      "cms_active -> True\n",
      "zdc_ready -> False\n",
      "start_time -> 2017-06-16T20:51:27Z\n",
      "hbheb_ready -> True\n",
      "beam1_stable -> True\n",
      "tob_ready -> True\n",
      "hbhec_ready -> False\n",
      "run_number -> 297050\n",
      "beam2_stable -> True\n",
      "beam2_present -> True\n"
     ]
    }
   ],
   "source": [
    "### example: get available information per lumisection\n",
    "\n",
    "runnb = 297050\n",
    "lsfilter = {'attribute_name':'lumisection_number','value':1,'operator':'EQ'}\n",
    "ls_info = get_oms_data( omsapi, 'lumisections', runnb, extrafilters=[lsfilter] )\n",
    "attrs = ls_info['data'][0]['attributes']\n",
    "for key,val in attrs.items():\n",
    "    print('{} -> {}'.format(key,val))"
   ]
  },
  {
   "cell_type": "code",
   "execution_count": 13,
   "id": "hundred-breathing",
   "metadata": {
    "scrolled": true
   },
   "outputs": [
    {
     "data": {
      "text/plain": [
       "{'data': [{'id': '297050_1',\n",
       "   'type': 'lumisections',\n",
       "   'attributes': {'rp_time_ready': None,\n",
       "    'cscp_ready': True,\n",
       "    'beam1_present': True,\n",
       "    'physics_flag': True,\n",
       "    'dt0_ready': True,\n",
       "    'bpix_ready': True,\n",
       "    'ho_ready': True,\n",
       "    'dtp_ready': True,\n",
       "    'tecm_ready': True,\n",
       "    'gem_ready': None,\n",
       "    'lumisection_number': 1,\n",
       "    'tibtid_ready': True,\n",
       "    'fpix_ready': True,\n",
       "    'rpc_ready': True,\n",
       "    'rp_sect_56_ready': None,\n",
       "    'castor_ready': False,\n",
       "    'init_lumi': 6885.20214844,\n",
       "    'pileup': 40.37966919,\n",
       "    'esp_ready': True,\n",
       "    'hbhea_ready': True,\n",
       "    'eep_ready': True,\n",
       "    'ebm_ready': True,\n",
       "    'recorded_lumi': 25.67151953,\n",
       "    'delivered_lumi': 34.78266797,\n",
       "    'dtm_ready': True,\n",
       "    'gemp_ready': None,\n",
       "    'eem_ready': True,\n",
       "    'end_lumi': 0.0,\n",
       "    'fill_number': 5839,\n",
       "    'esm_ready': True,\n",
       "    'tecp_ready': True,\n",
       "    'gemm_ready': None,\n",
       "    'ebp_ready': True,\n",
       "    'end_time': '2017-06-16T20:51:50Z',\n",
       "    'hf_ready': True,\n",
       "    'rp_sect_45_ready': None,\n",
       "    'cscm_ready': True,\n",
       "    'cms_active': True,\n",
       "    'zdc_ready': False,\n",
       "    'start_time': '2017-06-16T20:51:27Z',\n",
       "    'hbheb_ready': True,\n",
       "    'beam1_stable': True,\n",
       "    'tob_ready': True,\n",
       "    'hbhec_ready': False,\n",
       "    'run_number': 297050,\n",
       "    'beam2_stable': True,\n",
       "    'beam2_present': True},\n",
       "   'relationships': {'run': {'links': {'self': 'https://https://vocms0185.cern.ch/agg/api/v1/lumisections/297050_1/relationships/run',\n",
       "      'related': 'https://https://vocms0185.cern.ch/agg/api/v1/lumisections/297050_1/run'}}},\n",
       "   'links': {'self': 'https://https://vocms0185.cern.ch/agg/api/v1/lumisections/297050_1'},\n",
       "   'meta': {'row': {'init_lumi': {'units': '10^{30}cm^{-2}s^{-1}'},\n",
       "     'delivered_lumi': {'units': 'pb^{-1}'},\n",
       "     'recorded_lumi': {'units': 'pb^{-1}'},\n",
       "     'end_lumi': {'units': '10^{30}cm^{-2}s^{-1}'}}}}],\n",
       " 'links': {'first': 'https://https://vocms0185.cern.ch/agg/api/v1/lumisections?filter[lumisections][run_number][EQ]=297050&page[limit]=1000&filter[lumisections][lumisection_number][EQ]=1',\n",
       "  'last': 'https://https://vocms0185.cern.ch/agg/api/v1/lumisections?filter[lumisections][run_number][EQ]=297050&page[limit]=1000&filter[lumisections][lumisection_number][EQ]=1',\n",
       "  'next': None,\n",
       "  'prev': None},\n",
       " 'meta': {'totalResourceCount': 1}}"
      ]
     },
     "execution_count": 13,
     "metadata": {},
     "output_type": "execute_result"
    }
   ],
   "source": [
    "ls_info"
   ]
  },
  {
   "cell_type": "code",
   "execution_count": null,
   "id": "recovered-driving",
   "metadata": {},
   "outputs": [],
   "source": []
  },
  {
   "cell_type": "code",
   "execution_count": 7,
   "id": "falling-change",
   "metadata": {},
   "outputs": [
    {
     "name": "stdout",
     "output_type": "stream",
     "text": [
      "https://vocms0185.cern.ch/agg/api/v1/lumisections/?fields=pileup,lumisection_number,recorded_lumi,delivered_lumi&filter[run_number][EQ]=297050&page[offset]=0&page[limit]=1000\n",
      "https://vocms0185.cern.ch/agg/api/v1/lumisections/?fields=pileup,lumisection_number,recorded_lumi,delivered_lumi&filter[run_number][EQ]=297050&page[offset]=0&page[limit]=1000\n"
     ]
    },
    {
     "data": {
      "text/plain": [
       "[<matplotlib.lines.Line2D at 0x7fd34473d910>]"
      ]
     },
     "execution_count": 7,
     "metadata": {},
     "output_type": "execute_result"
    },
    {
     "data": {
      "image/png": "[encoded data removed]",
      "text/plain": [
       "<Figure size 432x288 with 1 Axes>"
      ]
     },
     "metadata": {
      "needs_background": "light"
     },
     "output_type": "display_data"
    },
    {
     "data": {
      "image/png": "[encoded data removed]",
      "text/plain": [
       "<Figure size 432x288 with 1 Axes>"
      ]
     },
     "metadata": {
      "needs_background": "light"
     },
     "output_type": "display_data"
    }
   ],
   "source": [
    "# example: get pileup and luminosity information per lumisection\n",
    "\n",
    "runnb = 297050\n",
    "ls_info = get_oms_data( omsapi, 'lumisections', runnb, attributes=['lumisection_number','pileup','delivered_lumi','recorded_lumi'] )\n",
    "#print(ls_info)\n",
    "ls_nbs = get_oms_response_attribute(ls_info,'lumisection_number')\n",
    "pileup = get_oms_response_attribute(ls_info,'pileup')\n",
    "del_lumi = get_oms_response_attribute(ls_info,'delivered_lumi')\n",
    "rec_lumi = get_oms_response_attribute(ls_info,'recorded_lumi')\n",
    "\n",
    "plt.figure()\n",
    "plt.plot(ls_nbs,pileup)\n",
    "plt.figure()\n",
    "plt.plot(ls_nbs,del_lumi,color='b')\n",
    "plt.plot(ls_nbs,rec_lumi,color='g')"
   ]
  },
  {
   "cell_type": "code",
   "execution_count": 8,
   "id": "regulation-turner",
   "metadata": {},
   "outputs": [
    {
     "name": "stdout",
     "output_type": "stream",
     "text": [
      "https://vocms0185.cern.ch/agg/api/v1/l1triggerrates/?filter[run_number][EQ]=297050&page[offset]=0&page[limit]=1000&group[granularity]=lumisection\n",
      "https://vocms0185.cern.ch/agg/api/v1/l1triggerrates/?filter[run_number][EQ]=297050&page[offset]=0&page[limit]=1000&group[granularity]=lumisection\n",
      "physics_generated_fdl_tcds -> {'counter': 771187, 'rate': 33083.99}\n",
      "trigger_physics_lost -> {'counter': 213684, 'rate': 9167.062}\n",
      "l1a_total -> {'counter': 569191, 'rate': 24418.342}\n",
      "l1a_calibration -> {'counter': 1710, 'rate': 73.359146}\n",
      "trigger_physics_lost_beam_inactive -> {'counter': 20513, 'rate': 880.0088}\n",
      "total_before_deadtime -> {'counter': 786690, 'rate': 33749.066}\n",
      "physics_generated_fdl_gt -> {'counter': None, 'rate': None}\n",
      "l1a_random -> {'counter': 9978, 'rate': 428.05707}\n",
      "trigger_physics_lost_beam_active -> {'counter': 193171, 'rate': 8287.053}\n",
      "start_time -> 2017-06-16T20:51:27Z\n",
      "last_lumisection_number -> 1\n",
      "run_number -> 297050\n",
      "first_lumisection_number -> 1\n",
      "l1a_physics -> {'counter': 557503, 'rate': 23916.926}\n",
      "48025.66379682849\n"
     ]
    },
    {
     "data": {
      "text/plain": [
       "[<matplotlib.lines.Line2D at 0x7fd33c268490>]"
      ]
     },
     "execution_count": 8,
     "metadata": {},
     "output_type": "execute_result"
    },
    {
     "data": {
      "image/png": "[encoded data removed]",
      "text/plain": [
       "<Figure size 432x288 with 1 Axes>"
      ]
     },
     "metadata": {
      "needs_background": "light"
     },
     "output_type": "display_data"
    }
   ],
   "source": [
    "### example: get L1 trigger rate per lumisection\n",
    "\n",
    "import numpy as np\n",
    "\n",
    "runnb = 297050\n",
    "#lsfilter = {'attribute_name':'lumisection_number','value':10,'operator':'LT'}\n",
    "ls_info = get_oms_data( omsapi, 'l1triggerrates', runnb, extraargs={'group[granularity]':'lumisection'} )\n",
    "#print(ls_info)\n",
    "attrs = ls_info['data'][0]['attributes']\n",
    "for attr in attrs: print('{} -> {}'.format(attr,attrs[attr]))\n",
    "lsnbs = get_oms_response_attribute(ls_info,'first_lumisection_number')\n",
    "l1_rate = get_oms_response_attribute(ls_info,'l1a_physics')\n",
    "l1_rate = [el['rate'] for el in l1_rate]\n",
    "#print(l1_rate)\n",
    "print(np.mean(l1_rate))\n",
    "plt.figure()\n",
    "plt.plot(lsnbs,l1_rate)"
   ]
  },
  {
   "cell_type": "code",
   "execution_count": 9,
   "id": "divine-poster",
   "metadata": {
    "scrolled": true
   },
   "outputs": [
    {
     "name": "stdout",
     "output_type": "stream",
     "text": [
      "https://vocms0185.cern.ch/agg/api/v1/hltpathinfo/?fields=run_number,path_name&filter[run_number][EQ]=297050&page[offset]=0&page[limit]=1000\n",
      "https://vocms0185.cern.ch/agg/api/v1/hltpathinfo/?fields=run_number,path_name&filter[run_number][EQ]=297050&page[offset]=0&page[limit]=1000\n",
      "available path names:\n",
      "['AlCa_EcalEtaEBonly_v9', 'AlCa_EcalEtaEEonly_v9', 'AlCa_EcalPhiSym_v7', 'AlCa_EcalPi0EBonly_v9', 'AlCa_EcalPi0EEonly_v9', 'AlCa_LumiPixels_Random_v2', 'AlCa_LumiPixels_ZeroBias_v6', 'AlCa_RPCMuonNormalisation_v11', 'DST_Physics_v6', 'HLT_AK4CaloJet100_v5', 'HLT_AK4CaloJet120_v4', 'HLT_AK4CaloJet30_v6', 'HLT_AK4CaloJet40_v5', 'HLT_AK4CaloJet50_v5', 'HLT_AK4CaloJet80_v5', 'HLT_AK4PFJet100_v8', 'HLT_AK4PFJet120_v7', 'HLT_AK4PFJet30_v8', 'HLT_AK4PFJet50_v8', 'HLT_AK4PFJet80_v8', 'HLT_AK8PFJet140_v5', 'HLT_AK8PFJet200_v5', 'HLT_AK8PFJet260_v6', 'HLT_AK8PFJet320_v6', 'HLT_AK8PFJet400_v6', 'HLT_AK8PFJet40_v6', 'HLT_AK8PFJet450_v6', 'HLT_AK8PFJet500_v6', 'HLT_AK8PFJet550_v1', 'HLT_AK8PFJet60_v5', 'HLT_AK8PFJet80_v5', 'HLT_BTagMu_AK4DiJet110_Mu5_v5', 'HLT_BTagMu_AK4DiJet170_Mu5_v4', 'HLT_BTagMu_AK4DiJet20_Mu5_v5', 'HLT_BTagMu_AK4DiJet40_Mu5_v5', 'HLT_BTagMu_AK4DiJet70_Mu5_v5', 'HLT_BTagMu_AK4Jet300_Mu5_v5', 'HLT_BTagMu_AK8DiJet170_Mu5_v1', 'HLT_BTagMu_AK8Jet300_Mu5_v5', 'HLT_CaloJet500_NoJetID_v6', 'HLT_CaloJet550_NoJetID_v1', 'HLT_DiMu9_Ele9_CaloIdL_TrackIdL_DZ_v8', 'HLT_DiMu9_Ele9_CaloIdL_TrackIdL_v8', 'HLT_DiPFJet15_FBEta3_NoCaloMatched_v7', 'HLT_DiPFJet15_NoCaloMatched_v6', 'HLT_DiPFJet25_FBEta3_NoCaloMatched_v7', 'HLT_DiPFJet25_NoCaloMatched_v6', 'HLT_DiPFJetAve15_HFJEC_v7', 'HLT_DiPFJetAve25_HFJEC_v7', 'HLT_DiPFJetAve35_HFJEC_v7', 'HLT_DiSC30_18_EIso_AND_HE_Mass70_v7', 'HLT_Dimuon0_LowMass_L1_0er1p5R_v1', 'HLT_Dimuon0_LowMass_L1_4R_v1', 'HLT_Dimuon10_PsiPrime_Barrel_Seagulls_v1', 'HLT_Dimuon12_Upsilon_eta1p5_v8', 'HLT_Dimuon14_Phi_Barrel_Seagulls_v1', 'HLT_Dimuon18_PsiPrime_v8', 'HLT_Dimuon20_Jpsi_Barrel_Seagulls_v1', 'HLT_Dimuon25_Jpsi_v8', 'HLT_Diphoton30EB_18EB_R9Id_OR_IsoCaloId_AND_HE_R9Id_NoPixelVeto_Mass55_v7', 'HLT_Diphoton30EB_18EB_R9Id_OR_IsoCaloId_AND_HE_R9Id_PixelVeto_Mass55_v7', 'HLT_Diphoton30PV_18PV_R9Id_AND_IsoCaloId_AND_HE_R9Id_NoPixelVeto_Mass55_v7', 'HLT_Diphoton30PV_18PV_R9Id_AND_IsoCaloId_AND_HE_R9Id_PixelVeto_Mass55_v7', 'HLT_Diphoton30_22_R9Id_OR_IsoCaloId_AND_HE_R9Id_Mass90_v7', 'HLT_Diphoton30_22_R9Id_OR_IsoCaloId_AND_HE_R9Id_Mass95_v7', 'HLT_DoubleEle33_CaloIdL_MW_v9', 'HLT_DoubleLooseChargedIsoPFTau35_Trk1_TightID_eta2p1_Reg_v1', 'HLT_DoubleLooseChargedIsoPFTau35_Trk1_eta2p1_Reg_v1', 'HLT_DoubleLooseChargedIsoPFTau40_Trk1_TightID_eta2p1_Reg_v1', 'HLT_DoubleLooseChargedIsoPFTau40_Trk1_eta2p1_Reg_v1', 'HLT_DoubleMediumChargedIsoPFTau35_Trk1_TightID_eta2p1_Reg_v1', 'HLT_DoubleMediumChargedIsoPFTau35_Trk1_eta2p1_Reg_v1', 'HLT_DoubleMediumChargedIsoPFTau40_Trk1_TightID_eta2p1_Reg_v1', 'HLT_DoubleMediumChargedIsoPFTau40_Trk1_eta2p1_Reg_v1', 'HLT_DoubleMu20_7_Mass0to30_L1_DM4EG_v1', 'HLT_DoubleMu20_7_Mass0to30_Photon23_v1', 'HLT_DoubleMu3_Trk_Tau3mu_v5', 'HLT_DoubleMu4_3_Bs_v8', 'HLT_DoubleMu4_3_Jpsi_Displaced_v8', 'HLT_DoubleMu4_JpsiTrk_Displaced_v8', 'HLT_DoubleMu4_Jpsi_Displaced_v1', 'HLT_DoubleMu4_Jpsi_NoVertexing_v1', 'HLT_DoubleMu4_LowMassNonResonantTrk_Displaced_v8', 'HLT_DoubleMu4_PsiPrimeTrk_Displaced_v8', 'HLT_DoublePhoton33_CaloIdL_v1', 'HLT_DoublePhoton70_v1', 'HLT_DoublePhoton85_v9', 'HLT_DoubleTightChargedIsoPFTau35_Trk1_TightID_eta2p1_Reg_v1', 'HLT_DoubleTightChargedIsoPFTau35_Trk1_eta2p1_Reg_v1', 'HLT_DoubleTightChargedIsoPFTau40_Trk1_TightID_eta2p1_Reg_v1', 'HLT_DoubleTightChargedIsoPFTau40_Trk1_eta2p1_Reg_v1', 'HLT_ECALHT800_v7', 'HLT_EcalCalibration_v3', 'HLT_Ele16_Ele12_Ele8_CaloIdL_TrackIdL_v1', 'HLT_Ele23_Ele12_CaloIdL_TrackIdL_IsoVL_DZ_v10', 'HLT_Ele23_Ele12_CaloIdL_TrackIdL_IsoVL_v10', 'HLT_Ele24_eta2p1_WPTight_Gsf_LooseChargedIsoPFTau30_eta2p1_CrossL1_v1', 'HLT_Ele24_eta2p1_WPTight_Gsf_LooseChargedIsoPFTau30_eta2p1_TightID_CrossL1_v1', 'HLT_Ele24_eta2p1_WPTight_Gsf_MediumChargedIsoPFTau30_eta2p1_CrossL1_v1', 'HLT_Ele24_eta2p1_WPTight_Gsf_MediumChargedIsoPFTau30_eta2p1_TightID_CrossL1_v1', 'HLT_Ele24_eta2p1_WPTight_Gsf_TightChargedIsoPFTau30_eta2p1_CrossL1_v1', 'HLT_Ele24_eta2p1_WPTight_Gsf_TightChargedIsoPFTau30_eta2p1_TightID_CrossL1_v1', 'HLT_Ele27_WPTight_Gsf_v8', 'HLT_Ele28_eta2p1_WPTight_Gsf_HT150_v1', 'HLT_Ele30_eta2p1_WPTight_Gsf_CentralPFJet35_EleCleaned_v1', 'HLT_Ele32_WPTight_Gsf_L1DoubleEG_v1', 'HLT_Ele35_WPTight_Gsf_v1', 'HLT_Ele38_WPTight_Gsf_v1', 'HLT_Ele40_WPTight_Gsf_v1', 'HLT_FullTrack_Multiplicity105_v1', 'HLT_FullTrack_Multiplicity135_v1', 'HLT_FullTrack_Multiplicity155_v1', 'HLT_FullTrack_Multiplicity85_v1', 'HLT_HISinglePhoton10_Eta3p1ForPPRef_v4', 'HLT_HISinglePhoton20_Eta3p1ForPPRef_v4', 'HLT_HISinglePhoton30_Eta3p1ForPPRef_v4', 'HLT_HISinglePhoton40_Eta3p1ForPPRef_v4', 'HLT_HISinglePhoton50_Eta3p1ForPPRef_v4', 'HLT_HISinglePhoton60_Eta3p1ForPPRef_v4', 'HLT_HT300PT30_QuadJet_75_60_45_40_TripeCSV_p07_v2', 'HLT_HT300PT30_QuadJet_75_60_45_40_v2', 'HLT_HT300_Beamspot_v1', 'HLT_HT450_Beamspot_v1', 'HLT_HcalCalibration_v4', 'HLT_HcalNZS_v11', 'HLT_HcalPhiSym_v12', 'HLT_IsoMu20_eta2p1_LooseChargedIsoPFTau27_eta2p1_CrossL1_v1', 'HLT_IsoMu20_eta2p1_LooseChargedIsoPFTau27_eta2p1_TightID_CrossL1_v1', 'HLT_IsoMu20_eta2p1_MediumChargedIsoPFTau27_eta2p1_CrossL1_v1', 'HLT_IsoMu20_eta2p1_MediumChargedIsoPFTau27_eta2p1_TightID_CrossL1_v1', 'HLT_IsoMu20_eta2p1_TightChargedIsoPFTau27_eta2p1_CrossL1_v1', 'HLT_IsoMu20_eta2p1_TightChargedIsoPFTau27_eta2p1_TightID_CrossL1_v1', 'HLT_IsoMu20_v7', 'HLT_IsoMu24_eta2p1_LooseChargedIsoPFTau20_SingleL1_v1', 'HLT_IsoMu24_eta2p1_LooseChargedIsoPFTau20_TightID_SingleL1_v1', 'HLT_IsoMu24_eta2p1_LooseChargedIsoPFTau35_Trk1_TightID_eta2p1_Reg_CrossL1_v1', 'HLT_IsoMu24_eta2p1_LooseChargedIsoPFTau35_Trk1_eta2p1_Reg_CrossL1_v1', 'HLT_IsoMu24_eta2p1_MediumChargedIsoPFTau20_SingleL1_v1', 'HLT_IsoMu24_eta2p1_MediumChargedIsoPFTau20_TightID_SingleL1_v1', 'HLT_IsoMu24_eta2p1_MediumChargedIsoPFTau35_Trk1_TightID_eta2p1_Reg_CrossL1_v1', 'HLT_IsoMu24_eta2p1_MediumChargedIsoPFTau35_Trk1_eta2p1_Reg_CrossL1_v1', 'HLT_IsoMu24_eta2p1_MediumChargedIsoPFTau50_Trk30_eta2p1_1pr_v1', 'HLT_IsoMu24_eta2p1_TightChargedIsoPFTau20_SingleL1_v1', 'HLT_IsoMu24_eta2p1_TightChargedIsoPFTau20_TightID_SingleL1_v1', 'HLT_IsoMu24_eta2p1_TightChargedIsoPFTau35_Trk1_TightID_eta2p1_Reg_CrossL1_v1', 'HLT_IsoMu24_eta2p1_TightChargedIsoPFTau35_Trk1_eta2p1_Reg_CrossL1_v1', 'HLT_IsoMu24_eta2p1_v7', 'HLT_IsoMu24_v5', 'HLT_IsoMu27_v8', 'HLT_L1MinimumBiasHF0OR_v2', 'HLT_L1MinimumBiasHF_OR_v1', 'HLT_L1NotBptxOR_v2', 'HLT_L1SingleMu18_v2', 'HLT_L1SingleMu25_v1', 'HLT_L1UnpairedBunchBptxMinus_v1', 'HLT_L1UnpairedBunchBptxPlus_v1', 'HLT_L2Mu10_NoVertex_NoBPTX3BX_v3', 'HLT_L2Mu10_NoVertex_NoBPTX_v4', 'HLT_L2Mu10_v4', 'HLT_L2Mu40_NoVertex_3Sta_NoBPTX3BX_v3', 'HLT_L2Mu45_NoVertex_3Sta_NoBPTX3BX_v2', 'HLT_MediumChargedIsoPFTau100HighPtRelaxedIso_Trk50_eta2p1_1pr_v1', 'HLT_MediumChargedIsoPFTau180HighPtRelaxedIso_Trk50_eta2p1_v1', 'HLT_MediumChargedIsoPFTau50_Trk30_eta2p1_1pr_MET100_v1', 'HLT_MediumChargedIsoPFTau50_Trk30_eta2p1_1pr_MET90_v1', 'HLT_MediumChargedIsoPFTau50_Trk30_eta2p1_1pr_v1', 'HLT_MonoCentralPFJet80_PFMETNoMu110_PFMHTNoMu110_IDTight_v9', 'HLT_MonoCentralPFJet80_PFMETNoMu120_PFMHTNoMu120_IDTight_v9', 'HLT_Mu12_TrkIsoVVL_Ele23_CaloIdL_TrackIdL_IsoVL_DZ_v5', 'HLT_Mu17_TrkIsoVVL_Mu8_TrkIsoVVL_DZ_Mass8_v7', 'HLT_Mu17_TrkIsoVVL_Mu8_TrkIsoVVL_DZ_v8', 'HLT_Mu17_TrkIsoVVL_Mu8_TrkIsoVVL_v7', 'HLT_Mu17_TrkIsoVVL_v5', 'HLT_Mu17_v5', 'HLT_Mu20_TkMu0_Phi_v1', 'HLT_Mu20_v5', 'HLT_Mu23_TrkIsoVVL_Ele12_CaloIdL_TrackIdL_IsoVL_DZ_v5', 'HLT_Mu27_v6', 'HLT_Mu30_TkMu0_Onia_v1', 'HLT_Mu50_v6', 'HLT_Mu7p5_Track2_Jpsi_v5', 'HLT_Mu7p5_Track2_Upsilon_v5', 'HLT_Mu7p5_Track3p5_Jpsi_v5', 'HLT_Mu7p5_Track3p5_Upsilon_v5', 'HLT_Mu7p5_Track7_Jpsi_v5', 'HLT_Mu7p5_Track7_Upsilon_v5', 'HLT_Mu8_DiEle12_CaloIdL_TrackIdL_DZ_v9', 'HLT_Mu8_DiEle12_CaloIdL_TrackIdL_v9', 'HLT_Mu8_TrkIsoVVL_Ele23_CaloIdL_TrackIdL_IsoVL_DZ_v4', 'HLT_Mu8_TrkIsoVVL_v6', 'HLT_Mu8_v6', 'HLT_PFHT1050_v7', 'HLT_PFHT180_v7', 'HLT_PFHT250_v7', 'HLT_PFHT350_v9', 'HLT_PFHT370_v7', 'HLT_PFHT380_SixJet32_DoubleBTagCSV_p075_v1', 'HLT_PFHT430_SixJet40_BTagCSV_p080_v1', 'HLT_PFHT430_v7', 'HLT_PFHT500_PFMET100_PFMHT100_IDTight_v1', 'HLT_PFHT500_PFMET110_PFMHT110_IDTight_v1', 'HLT_PFHT510_v7', 'HLT_PFHT590_v7', 'HLT_PFHT680_v7', 'HLT_PFHT700_PFMET85_PFMHT85_IDTight_v1', 'HLT_PFHT700_PFMET95_PFMHT95_IDTight_v1', 'HLT_PFHT780_v7', 'HLT_PFHT800_PFMET75_PFMHT75_IDTight_v1', 'HLT_PFHT800_PFMET85_PFMHT85_IDTight_v1', 'HLT_PFHT890_v7', 'HLT_PFJet140_v9', 'HLT_PFJet200_v9', 'HLT_PFJet260_v10', 'HLT_PFJet320_v10', 'HLT_PFJet400_v10', 'HLT_PFJet40_v10', 'HLT_PFJet450_v10', 'HLT_PFJet500_v10', 'HLT_PFJet550_v1', 'HLT_PFJet60_v10', 'HLT_PFJet80_v9', 'HLT_PFMET110_PFMHT110_IDTight_v9', 'HLT_PFMET120_PFMHT120_IDTight_v9', 'HLT_PFMET130_PFMHT130_IDTight_v9', 'HLT_PFMET140_PFMHT140_IDTight_v9', 'HLT_PFMETNoMu110_PFMHTNoMu110_IDTight_v9', 'HLT_PFMETNoMu120_PFMHTNoMu120_IDTight_v9', 'HLT_PFMETTypeOne110_PFMHT110_IDTight_v1', 'HLT_PFMETTypeOne120_PFMHT120_IDTight_v1', 'HLT_PFMETTypeOne130_PFMHT130_IDTight_v1', 'HLT_PFMETTypeOne140_PFMHT140_IDTight_v1', 'HLT_Photon120_R9Id90_HE10_IsoM_v9', 'HLT_Photon120_v8', 'HLT_Photon150_v1', 'HLT_Photon165_R9Id90_HE10_IsoM_v10', 'HLT_Photon175_v9', 'HLT_Photon200_v8', 'HLT_Photon20_HoverELoose_v6', 'HLT_Photon300_NoHE_v8', 'HLT_Photon30_HoverELoose_v6', 'HLT_Photon33_v1', 'HLT_Photon40_HoverELoose_v6', 'HLT_Photon50_HoverELoose_v6', 'HLT_Photon50_R9Id90_HE10_IsoM_v9', 'HLT_Photon50_v8', 'HLT_Photon60_HoverELoose_v6', 'HLT_Photon60_R9Id90_CaloIdL_IsoL_DisplacedIdL_PFHT350MinPFJet15_v1', 'HLT_Photon75_R9Id90_HE10_IsoM_v9', 'HLT_Photon75_v8', 'HLT_Photon90_R9Id90_HE10_IsoM_v9', 'HLT_Photon90_v8', 'HLT_Physics_v6', 'HLT_Random_v2', 'HLT_Trimuon2_Upsilon5_Muon_v1', 'HLT_TripleMu_10_5_5_DZ_v4', 'HLT_TripleMu_12_10_5_v4', 'HLT_UncorrectedJetE30_NoBPTX3BX_v1', 'HLT_UncorrectedJetE30_NoBPTX_v1', 'HLT_UncorrectedJetE60_NoBPTX3BX_v1', 'HLT_UncorrectedJetE70_NoBPTX3BX_v1', 'HLT_ZeroBias_FirstBXAfterTrain_v2', 'HLT_ZeroBias_FirstCollisionAfterAbortGap_v4', 'HLT_ZeroBias_FirstCollisionInTrain_v2', 'HLT_ZeroBias_IsolatedBunches_v4', 'HLT_ZeroBias_LastCollisionInTrain_v1', 'HLT_ZeroBias_part0_v2', 'HLT_ZeroBias_part1_v2', 'HLT_ZeroBias_part2_v2', 'HLT_ZeroBias_part3_v2', 'HLT_ZeroBias_part4_v2', 'HLT_ZeroBias_part5_v2', 'HLT_ZeroBias_part6_v2', 'HLT_ZeroBias_part7_v2', 'HLT_ZeroBias_part8_v2', 'HLT_ZeroBias_part9_v2', 'HLT_ZeroBias_v5', 'HLTriggerFinalPath', 'HLTriggerFirstPath']\n",
      "https://vocms0185.cern.ch/agg/api/v1/hltpathrates/?filter[run_number][EQ]=297050&filter[path_name][EQ]=HLT_ZeroBias_v5&page[offset]=0&page[limit]=1000&group[granularity]=lumisection\n",
      "https://vocms0185.cern.ch/agg/api/v1/hltpathrates/?filter[run_number][EQ]=297050&filter[path_name][EQ]=HLT_ZeroBias_v5&page[offset]=0&page[limit]=1000&group[granularity]=lumisection\n"
     ]
    },
    {
     "data": {
      "text/plain": [
       "[<matplotlib.lines.Line2D at 0x7fd344871d90>]"
      ]
     },
     "execution_count": 9,
     "metadata": {},
     "output_type": "execute_result"
    },
    {
     "data": {
      "image/png": "[encoded data removed]",
      "text/plain": [
       "<Figure size 432x288 with 1 Axes>"
      ]
     },
     "metadata": {
      "needs_background": "light"
     },
     "output_type": "display_data"
    }
   ],
   "source": [
    "### example: get HLT trigger rate per lumisection\n",
    "\n",
    "runnb = 297050\n",
    "ls_info = get_oms_data( omsapi, 'hltpathinfo', runnb, attributes=['run_number','path_name'] )\n",
    "#print(ls_info)\n",
    "print('available path names:')\n",
    "print(get_oms_response_attribute(ls_info,'path_name'))\n",
    "\n",
    "path_filter = {'attribute_name':'path_name','value':'HLT_ZeroBias_v5','operator':'EQ'}\n",
    "ls_info = get_oms_data( omsapi, 'hltpathrates', runnb, extraargs={'group[granularity]':'lumisection'}, extrafilters=[path_filter] )\n",
    "#print(ls_info)\n",
    "lsnbs = get_oms_response_attribute(ls_info,'first_lumisection_number')\n",
    "hlt_rate = get_oms_response_attribute(ls_info,'rate')\n",
    "#print(hlt_rate)\n",
    "plt.figure()\n",
    "plt.plot(lsnbs,hlt_rate)"
   ]
  },
  {
   "cell_type": "code",
   "execution_count": 10,
   "id": "agreed-child",
   "metadata": {},
   "outputs": [],
   "source": [
    "### example: check if 'cms_active' attribute is same as DCS-json\n",
    "\n",
    "import os\n",
    "import sys\n",
    "sys.path.append(os.path.abspath('../utils/'))\n",
    "import json_utils as jsonu\n",
    "import plot_utils as pu"
   ]
  },
  {
   "cell_type": "code",
   "execution_count": 11,
   "id": "first-foster",
   "metadata": {
    "scrolled": true
   },
   "outputs": [
    {
     "name": "stdout",
     "output_type": "stream",
     "text": [
      "https://vocms0185.cern.ch/agg/api/v1/lumisections/?fields=lumisection_number,cms_active&filter[run_number][EQ]=306458&page[offset]=0&page[limit]=1000\n",
      "https://vocms0185.cern.ch/agg/api/v1/lumisections/?fields=lumisection_number,cms_active&filter[run_number][EQ]=306458&page[offset]=0&page[limit]=1000\n",
      "[True, True, True, True, True, True, True, True, True, True, True, True, True, True, True, True, True, True, True, True, True, True, True, True, True, True, True, True, True, True, True, True, True, True, True, True, True, True, True, True, True, True, True, True, True, True, True, True, True, True, True, True, True, True, True, True, True, True, True, True, True, True, True, True, True, True, True, True, True, True, True, True, True, True, True, True, True, True, True, True, True, True, True, True, True, True, True, True, True, True, True, True, True, True, True, True, True, True, True, True, True, True, True, True, True, True, True, True, True, True, True, True, True, True, True, True, True, True, True, True, True, True, True, True, True, True, True, True, True, True, True, True, True, True, True, True, True, True, True, True, True, True, True, True, True, True, True, True, True, True, True, True, True, True, True, True, True, True, True, True, True, True, True, True, True, True, True, True, True, True, True, True, True, True, True, True, True, True, True, True, True, True, True, True, True, True, True, True, True, True, True, True, True, True, True, True, True, True, True, True, True, True, True, True, True, True, True, True, True, True, True, True, True, True, True, True, True, True, True, True, True, True, True, True, True, True, True, True, True, True, True, True, True, True, True, True, True, True, True, True, True, True, True, True, True, True, True, True, True, True, True, True, True, True, True, True, True, True, True, True, True, True, True, True, True, True, True, True, False]\n",
      "[ True  True  True  True  True  True  True  True  True  True  True  True\n",
      "  True  True  True  True  True False False  True  True  True  True  True\n",
      "  True  True  True  True  True  True  True  True  True  True  True False\n",
      "  True  True  True  True  True False  True  True  True  True  True False\n",
      "  True  True  True  True  True False False  True  True  True  True  True\n",
      " False  True  True  True  True  True False  True  True  True  True  True\n",
      " False  True  True  True  True False  True  True  True  True  True False\n",
      "  True  True  True  True  True False False False  True  True  True  True\n",
      "  True  True  True  True  True  True False  True  True  True  True  True\n",
      " False  True  True  True  True  True False  True  True  True  True  True\n",
      " False  True  True  True  True  True False False  True  True  True  True\n",
      "  True  True  True  True  True  True  True False  True  True  True  True\n",
      "  True False  True  True  True  True  True False  True  True  True  True\n",
      "  True  True  True  True  True  True  True  True  True  True False False\n",
      "  True  True  True  True  True False  True  True  True  True  True False\n",
      "  True  True  True  True  True False  True  True  True  True  True False\n",
      "  True  True  True  True  True False False  True  True  True  True  True\n",
      "  True  True  True  True  True  True False  True  True  True  True  True\n",
      " False  True  True  True  True  True False False  True  True  True  True\n",
      "  True False  True  True  True  True  True False  True  True  True  True\n",
      "  True False  True  True  True  True  True False  True False False  True\n",
      "  True  True  True  True False  True  True  True  True  True  True  True\n",
      "  True  True  True  True False]\n"
     ]
    },
    {
     "data": {
      "text/plain": [
       "(<Figure size 432x288 with 1 Axes>, <AxesSubplot:xlabel='lumisection number'>)"
      ]
     },
     "execution_count": 11,
     "metadata": {},
     "output_type": "execute_result"
    },
    {
     "data": {
      "image/png": "[encoded data removed]",
      "text/plain": [
       "<Figure size 432x288 with 1 Axes>"
      ]
     },
     "metadata": {
      "needs_background": "light"
     },
     "output_type": "display_data"
    }
   ],
   "source": [
    "runnb = 306458\n",
    "ls_info = get_oms_data( omsapi, 'lumisections', runnb, attributes=['lumisection_number','cms_active'] )\n",
    "lsnbs = get_oms_response_attribute(ls_info,'lumisection_number')\n",
    "cms_active = get_oms_response_attribute(ls_info,'cms_active')\n",
    "print(cms_active)\n",
    "runnbs = [runnb]*len(lsnbs)\n",
    "dcson = jsonu.isdcson( runnbs, lsnbs )\n",
    "print(dcson)\n",
    "pu.plot_hists([cms_active],colorlist=['blue'], labellist=['cms_active'],\n",
    "              xaxtitle='lumisection number', yaxtitle=None, bkgcolor=dcson, bkgcmap='cool')"
   ]
  },
  {
   "cell_type": "code",
   "execution_count": null,
   "id": "executive-monitor",
   "metadata": {},
   "outputs": [],
   "source": []
  }
 ],
 "metadata": {
  "kernelspec": {
   "display_name": "Python 3",
   "language": "python",
   "name": "python3"
  },
  "language_info": {
   "codemirror_mode": {
    "name": "ipython",
    "version": 3
   },
   "file_extension": ".py",
   "mimetype": "text/x-python",
   "name": "python",
   "nbconvert_exporter": "python",
   "pygments_lexer": "ipython3",
   "version": "3.8.6"
  }
 },
 "nbformat": 4,
 "nbformat_minor": 5
}
